{
 "cells": [
  {
   "cell_type": "code",
   "execution_count": 1,
   "metadata": {},
   "outputs": [],
   "source": [
    "%load_ext autoreload\n",
    "%autoreload 2"
   ]
  },
  {
   "cell_type": "code",
   "execution_count": 2,
   "metadata": {},
   "outputs": [],
   "source": [
    "import sys\n",
    "\n",
    "import numpy as np\n",
    "from scipy.io import loadmat\n",
    "\n",
    "sys.path.insert(0, '..')\n",
    "from commons.factor import Factor\n",
    "\n",
    "import helper\n",
    "import solution\n",
    "import submit"
   ]
  },
  {
   "cell_type": "code",
   "execution_count": 3,
   "metadata": {},
   "outputs": [],
   "source": [
    "# Please copy all mat files for these assignments downloaded from Coursea into ./data directory beforehand.\n",
    "\n",
    "sample = loadmat(\"./data/PA4Sample.mat\", simplify_cells=True)"
   ]
  },
  {
   "cell_type": "markdown",
   "metadata": {},
   "source": [
    "## Compute Initial Potentials"
   ]
  },
  {
   "cell_type": "code",
   "execution_count": 4,
   "metadata": {},
   "outputs": [],
   "source": [
    "# This cell contains data prepration code.\n",
    "\n",
    "inp = sample['InitPotential']['INPUT']\n",
    "out = sample['InitPotential']['RESULT']\n",
    "\n",
    "out = {\n",
    "    'adj_list': helper.adj_matrix_to_adj_list(out['edges']),\n",
    "    'clique_list': [Factor.from_matlab(f) for f in out['cliqueList']]\n",
    "}\n",
    "\n",
    "nodes = [set(x-1) for x in inp['nodes']]\n",
    "\n",
    "edges = []\n",
    "edge_mat = inp['edges']\n",
    "for i in range(len(edge_mat)):\n",
    "    for j in range(i+1, len(edge_mat)):\n",
    "        if edge_mat[i, j] == 1:\n",
    "            edges.append((nodes[i], nodes[j]))\n",
    "\n",
    "skeleton = {'nodes': nodes, 'edges': edges, \n",
    "            'factor_list': [Factor.from_matlab(f) for f in inp['factorList']]}"
   ]
  },
  {
   "cell_type": "code",
   "execution_count": 5,
   "metadata": {},
   "outputs": [
    {
     "data": {
      "text/plain": [
       "True"
      ]
     },
     "execution_count": 5,
     "metadata": {},
     "output_type": "execute_result"
    }
   ],
   "source": [
    "sol = solution.compute_initial_potentials(skeleton)\n",
    "out == sol"
   ]
  },
  {
   "cell_type": "markdown",
   "metadata": {},
   "source": [
    "## Get Next Clique"
   ]
  },
  {
   "cell_type": "code",
   "execution_count": 6,
   "metadata": {},
   "outputs": [],
   "source": [
    "# This cell contains data prepration code.\n",
    "\n",
    "inp1, inp2 = sample['GetNextC']['INPUT1'], sample['GetNextC']['INPUT2']\n",
    "out = sample['GetNextC']['RESULT1']-1, sample['GetNextC']['RESULT2']-1\n",
    "\n",
    "clique_tree = {'adj_list': helper.adj_matrix_to_adj_list(inp1['edges']),\n",
    "               'clique_list': 'NOT REQUIRED'}\n",
    "\n",
    "\n",
    "N = len(clique_tree['adj_list'])\n",
    "msgs = {i: {} for i in range(N)}\n",
    "for i in range(N):\n",
    "    for j in range(N):\n",
    "        msg = inp2[i, j]\n",
    "        if isinstance(msg.val, int):\n",
    "            continue\n",
    "        msg = Factor.from_mat_struct(msg)\n",
    "        msgs[j][i] = msg"
   ]
  },
  {
   "cell_type": "code",
   "execution_count": 7,
   "metadata": {},
   "outputs": [
    {
     "data": {
      "text/plain": [
       "True"
      ]
     },
     "execution_count": 7,
     "metadata": {},
     "output_type": "execute_result"
    }
   ],
   "source": [
    "out == solution.get_next_clique(clique_tree, msgs)"
   ]
  },
  {
   "cell_type": "markdown",
   "metadata": {},
   "source": [
    "## Clique Tree Calibrate (Sum Product)"
   ]
  },
  {
   "cell_type": "code",
   "execution_count": 8,
   "metadata": {},
   "outputs": [],
   "source": [
    "# This cell contains data prepration code.\n",
    "\n",
    "inp = sample['SumProdCalibrate']['INPUT']\n",
    "out = sample['SumProdCalibrate']['RESULT']\n",
    "\n",
    "clique_tree = {'clique_list':  [Factor.from_matlab(f) for f in inp['cliqueList']],\n",
    "               'adj_list': helper.adj_matrix_to_adj_list(inp['edges'])}\n",
    "out = {'clique_list':  [Factor.from_matlab(f) for f in out['cliqueList']],\n",
    "               'adj_list': helper.adj_matrix_to_adj_list(out['edges'])}"
   ]
  },
  {
   "cell_type": "code",
   "execution_count": 9,
   "metadata": {},
   "outputs": [
    {
     "data": {
      "text/plain": [
       "True"
      ]
     },
     "execution_count": 9,
     "metadata": {},
     "output_type": "execute_result"
    }
   ],
   "source": [
    "solution.clique_tree_calibrate(clique_tree, is_max=0) == out"
   ]
  },
  {
   "cell_type": "markdown",
   "metadata": {},
   "source": [
    "## compute_exact_marginals_bp"
   ]
  },
  {
   "cell_type": "code",
   "execution_count": 10,
   "metadata": {},
   "outputs": [],
   "source": [
    "# This cell contains data prepration code.\n",
    "\n",
    "inp = [Factor.from_matlab(f) for f in sample['ExactMarginal']['INPUT']]\n",
    "out = [Factor.from_matlab(f) for f in sample['ExactMarginal']['RESULT']]"
   ]
  },
  {
   "cell_type": "code",
   "execution_count": 11,
   "metadata": {},
   "outputs": [
    {
     "data": {
      "text/plain": [
       "True"
      ]
     },
     "execution_count": 11,
     "metadata": {},
     "output_type": "execute_result"
    }
   ],
   "source": [
    "out == solution.compute_exact_marginals_bp(inp, is_max=0)"
   ]
  },
  {
   "cell_type": "markdown",
   "metadata": {},
   "source": [
    "## Factor Max Marginalization"
   ]
  },
  {
   "cell_type": "code",
   "execution_count": 12,
   "metadata": {},
   "outputs": [],
   "source": [
    "# This cell contains data prepration code.\n",
    "\n",
    "inp1 = Factor.from_matlab(sample['FactorMax']['INPUT1'])\n",
    "inp2 = sample['FactorMax']['INPUT2']-1\n",
    "out = Factor.from_matlab(sample['FactorMax']['RESULT'])"
   ]
  },
  {
   "cell_type": "code",
   "execution_count": 13,
   "metadata": {},
   "outputs": [
    {
     "data": {
      "text/plain": [
       "True"
      ]
     },
     "execution_count": 13,
     "metadata": {},
     "output_type": "execute_result"
    }
   ],
   "source": [
    "out == solution.factor_max_marginalization(inp1, [inp2, ])"
   ]
  },
  {
   "cell_type": "markdown",
   "metadata": {},
   "source": [
    "## Clique Tree Calibrate (Max Sum)\n",
    "\n",
    "__NOTE__: Please test your PA4Sample here, as it won't be passed to the grader. Grader has some bug in it that causes error even if your output is correct. \n",
    "You will lose 8 marks but such is life."
   ]
  },
  {
   "cell_type": "code",
   "execution_count": 14,
   "metadata": {},
   "outputs": [],
   "source": [
    "# This cell contains data prepration code.\n",
    "\n",
    "inp = sample['MaxSumCalibrate']['INPUT']\n",
    "out = sample['MaxSumCalibrate']['RESULT']\n",
    "\n",
    "clique_tree = {'clique_list': [Factor.from_matlab(clique) for clique in inp['cliqueList']], \n",
    "               'adj_list': helper.adj_matrix_to_adj_list(inp['edges'])}\n",
    "out = {'clique_list':  [Factor.from_matlab(f) for f in out['cliqueList']],\n",
    "               'adj_list': helper.adj_matrix_to_adj_list(out['edges'])}"
   ]
  },
  {
   "cell_type": "code",
   "execution_count": 15,
   "metadata": {},
   "outputs": [
    {
     "name": "stderr",
     "output_type": "stream",
     "text": [
      "/personal/Courses/Coursera - Probabilistic Graphical Models/PythonAssignments-Unsolved/Exact-Inference/../commons/factor.py:238: RuntimeWarning: divide by zero encountered in log\n",
      "  new_factor[assignment] = np.log(self.val[assignment])\n",
      "/personal/Courses/Coursera - Probabilistic Graphical Models/PythonAssignments-Unsolved/Exact-Inference/../commons/factor.py:86: RuntimeWarning: invalid value encountered in double_scalars\n",
      "  if abs(self[assignment] - other[other_assignment]) > 1e-6:\n"
     ]
    },
    {
     "data": {
      "text/plain": [
       "True"
      ]
     },
     "execution_count": 15,
     "metadata": {},
     "output_type": "execute_result"
    }
   ],
   "source": [
    "out == solution.clique_tree_calibrate(clique_tree, is_max=1)"
   ]
  },
  {
   "cell_type": "markdown",
   "metadata": {},
   "source": [
    "## Compute Exact Max-Marginals"
   ]
  },
  {
   "cell_type": "code",
   "execution_count": 16,
   "metadata": {},
   "outputs": [],
   "source": [
    "# This cell contains data prepration code.\n",
    "\n",
    "inp = [Factor.from_matlab(f) for f in sample['MaxMarginals']['INPUT']]\n",
    "out = [Factor.from_matlab(f) for f in  sample['MaxMarginals']['RESULT']]"
   ]
  },
  {
   "cell_type": "code",
   "execution_count": 17,
   "metadata": {},
   "outputs": [
    {
     "data": {
      "text/plain": [
       "True"
      ]
     },
     "execution_count": 17,
     "metadata": {},
     "output_type": "execute_result"
    }
   ],
   "source": [
    "out == solution.compute_exact_marginals_bp(inp, is_max=1)"
   ]
  },
  {
   "cell_type": "markdown",
   "metadata": {},
   "source": [
    "## Max Decoding"
   ]
  },
  {
   "cell_type": "code",
   "execution_count": 18,
   "metadata": {},
   "outputs": [],
   "source": [
    "# This cell contains data prepration code.\n",
    "\n",
    "inp = [Factor.from_matlab(f) for f in sample['MaxDecoded']['INPUT']]\n",
    "out = sample['MaxDecoded']['RESULT'] - 1"
   ]
  },
  {
   "cell_type": "code",
   "execution_count": 19,
   "metadata": {},
   "outputs": [
    {
     "data": {
      "text/plain": [
       "array([ True,  True,  True,  True,  True,  True,  True])"
      ]
     },
     "execution_count": 19,
     "metadata": {},
     "output_type": "execute_result"
    }
   ],
   "source": [
    "out == solution.max_decoding(inp)"
   ]
  },
  {
   "cell_type": "code",
   "execution_count": null,
   "metadata": {},
   "outputs": [],
   "source": []
  }
 ],
 "metadata": {
  "kernelspec": {
   "display_name": "Python 3",
   "language": "python",
   "name": "python3"
  },
  "language_info": {
   "codemirror_mode": {
    "name": "ipython",
    "version": 3
   },
   "file_extension": ".py",
   "mimetype": "text/x-python",
   "name": "python",
   "nbconvert_exporter": "python",
   "pygments_lexer": "ipython3",
   "version": "3.9.5"
  }
 },
 "nbformat": 4,
 "nbformat_minor": 4
}
