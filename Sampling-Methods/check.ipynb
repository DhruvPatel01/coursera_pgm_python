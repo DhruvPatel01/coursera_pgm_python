{
 "cells": [
  {
   "cell_type": "code",
   "execution_count": null,
   "metadata": {},
   "outputs": [],
   "source": [
    "%load_ext autoreload\n",
    "%autoreload 2"
   ]
  },
  {
   "cell_type": "code",
   "execution_count": 1,
   "metadata": {},
   "outputs": [],
   "source": [
    "from scipy.io import loadmat\n",
    "from scipy.sparse import dok_matrix\n",
    "from scipy.sparse.csgraph import connected_components\n",
    "import numpy  as np\n",
    "import sys\n",
    "import solution\n",
    "import helper\n",
    "\n",
    "sys.path.append('../')\n",
    "import commons\n",
    "from commons import factor\n",
    "from commons.factor import Factor\n",
    "import drandom"
   ]
  },
  {
   "cell_type": "markdown",
   "metadata": {},
   "source": [
    "## Block Log Distribution:"
   ]
  },
  {
   "cell_type": "code",
   "execution_count": 2,
   "metadata": {},
   "outputs": [],
   "source": [
    "# This cell prepares the arguments.\n",
    "sample = loadmat('./data/exampleIOPA5.mat', simplify_cells=True)\n",
    "\n",
    "inp = sample['exampleINPUT']\n",
    "out = sample['exampleOUTPUT']\n",
    "V, G, F, A = [inp['t6a1']-1], inp['t6a2'], inp['t6a3'], inp['t6a4']-1\n",
    "\n",
    "G['adj_list'] = commons.adj_matrix_to_adj_list(G['edges'])\n",
    "G['var2factors'] = np.array([x-1 for x in G['var2factors']], dtype='object')\n",
    "F = np.array([Factor.from_matlab(f) for f in F])"
   ]
  },
  {
   "cell_type": "code",
   "execution_count": 3,
   "metadata": {},
   "outputs": [
    {
     "data": {
      "text/plain": [
       "array([ True,  True])"
      ]
     },
     "execution_count": 3,
     "metadata": {},
     "output_type": "execute_result"
    }
   ],
   "source": [
    "out['t6'] == solution.block_log_distribution(V, G, F, A)"
   ]
  },
  {
   "cell_type": "markdown",
   "metadata": {},
   "source": [
    "## Gibbs trans"
   ]
  },
  {
   "cell_type": "code",
   "execution_count": 4,
   "metadata": {},
   "outputs": [],
   "source": [
    "drandom.seed(1)"
   ]
  },
  {
   "cell_type": "code",
   "execution_count": 5,
   "metadata": {},
   "outputs": [
    {
     "name": "stdout",
     "output_type": "stream",
     "text": [
      "True\n",
      "True\n",
      "True\n",
      "True\n",
      "True\n",
      "True\n",
      "True\n",
      "True\n",
      "True\n",
      "True\n"
     ]
    }
   ],
   "source": [
    "sample = loadmat('./data/exampleIOPA5.mat', simplify_cells=True)\n",
    "\n",
    "inp = sample['exampleINPUT']\n",
    "out = sample['exampleOUTPUT']\n",
    "\n",
    "As, Gs, Fs = inp['t7a1'], inp['t7a2'], inp['t7a3']\n",
    "\n",
    "for i in range(10):\n",
    "    A, G, F = As[i], Gs[i], Fs[i]\n",
    "    G['adj_list'] = commons.adj_matrix_to_adj_list(G['edges'])\n",
    "    G['var2factors'] = np.array([x-1 for x in G['var2factors']], dtype='object')\n",
    "    F = np.array([Factor.from_mat_struct(f) for f in F])\n",
    "    A = A-1\n",
    "    real_out = out['t7'][i]-1\n",
    "    my_out = solution.gibbs_trans(A, G, F)\n",
    "    print(np.all(real_out == my_out))\n",
    "    "
   ]
  },
  {
   "cell_type": "markdown",
   "metadata": {},
   "source": [
    "## MCMC Inference Part I"
   ]
  },
  {
   "cell_type": "code",
   "execution_count": 6,
   "metadata": {},
   "outputs": [
    {
     "name": "stderr",
     "output_type": "stream",
     "text": [
      "Running the markov chain.: 100%|██████████| 500/500 [00:01<00:00, 371.39it/s]\n",
      "Running the markov chain.:   8%|▊         | 40/500 [00:00<00:01, 389.80it/s]"
     ]
    },
    {
     "name": "stdout",
     "output_type": "stream",
     "text": [
      "True True\n"
     ]
    },
    {
     "name": "stderr",
     "output_type": "stream",
     "text": [
      "Running the markov chain.: 100%|██████████| 500/500 [00:01<00:00, 391.18it/s]"
     ]
    },
    {
     "name": "stdout",
     "output_type": "stream",
     "text": [
      "True True\n"
     ]
    },
    {
     "name": "stderr",
     "output_type": "stream",
     "text": [
      "\n"
     ]
    }
   ],
   "source": [
    "sample = loadmat('./data/exampleIOPA5.mat', simplify_cells=True)\n",
    "inp = sample['exampleINPUT']\n",
    "out = sample['exampleOUTPUT']\n",
    "drandom.seed(1)\n",
    "for i in range(2):\n",
    "    G, F, E, trans_name, mix_time, num_samples, sampling_interval, A0 = (inp[f't8a{j}'][i] for j in range(1, 9))\n",
    "    G['adj_list'] = commons.adj_matrix_to_adj_list(G['edges'])\n",
    "    G['var2factors'] = np.array([x-1 for x in G['var2factors']], dtype='object')\n",
    "    F = np.array([Factor.from_mat_struct(f) for f in F])\n",
    "    A0 = A0-1\n",
    "    \n",
    "    if i == 1:\n",
    "        trans_name = 'MHGibbs'\n",
    "    M_true = [Factor.from_mat_struct(f) for f in out['t8o1'][i]]\n",
    "    all_samples_true = out['t8o2'][i] - 1\n",
    "    \n",
    "    M, all_samples = solution.mcmc_inference(G, F, E, trans_name, mix_time, num_samples, sampling_interval, A0)\n",
    "    print(M_true == M, np.all(all_samples == all_samples_true))"
   ]
  },
  {
   "cell_type": "markdown",
   "metadata": {},
   "source": [
    "## MH Uniform Trans"
   ]
  },
  {
   "cell_type": "code",
   "execution_count": 7,
   "metadata": {},
   "outputs": [
    {
     "name": "stdout",
     "output_type": "stream",
     "text": [
      "True\n",
      "True\n",
      "True\n",
      "True\n",
      "True\n",
      "True\n",
      "True\n",
      "True\n",
      "True\n",
      "True\n"
     ]
    }
   ],
   "source": [
    "sample = loadmat('./data/exampleIOPA5.mat', simplify_cells=True)\n",
    "inp = sample['exampleINPUT']\n",
    "out = sample['exampleOUTPUT']\n",
    "\n",
    "As, Gs, Fs = inp['t9a1'],inp['t9a2'], inp['t9a3']\n",
    "drandom.seed(1)\n",
    "for i in range(10):\n",
    "    A, G, F = As[i], Gs[i], Fs[i]\n",
    "    G['adj_list'] = commons.adj_matrix_to_adj_list(G['edges'])\n",
    "    G['var2factors'] = np.array([x-1 for x in G['var2factors']], dtype='object')\n",
    "    F = np.array([Factor.from_mat_struct(f) for f in F])\n",
    "    A = A-1\n",
    "    real_out = out['t9'][i]-1\n",
    "    my_out = solution.mh_uniform_trans(A, G, F)\n",
    "    print(np.all(real_out == my_out))"
   ]
  },
  {
   "cell_type": "markdown",
   "metadata": {},
   "source": [
    "## MHSW Part 1"
   ]
  },
  {
   "cell_type": "code",
   "execution_count": 8,
   "metadata": {},
   "outputs": [
    {
     "name": "stdout",
     "output_type": "stream",
     "text": [
      "True\n",
      "True\n",
      "True\n",
      "True\n",
      "True\n",
      "True\n",
      "True\n",
      "True\n",
      "True\n",
      "True\n"
     ]
    }
   ],
   "source": [
    "sample = loadmat('./data/exampleIOPA5.mat', simplify_cells=True)\n",
    "inp = sample['exampleINPUT']\n",
    "out = sample['exampleOUTPUT']\n",
    "\n",
    "As, Gs, Fs = inp['t10a1'],inp['t10a2'], inp['t10a3']\n",
    "drandom.seed(1)\n",
    "for i in range(10):\n",
    "    \n",
    "    A, G, F = As[i], Gs[i], Fs[i]\n",
    "    G['adj_list'] = commons.adj_matrix_to_adj_list(G['edges'])\n",
    "    G['var2factors'] = np.array([x-1 for x in G['var2factors']], dtype='object')\n",
    "    G['q_list'][:, 0] -= 1\n",
    "    G['q_list'][:, 1] -= 1\n",
    "    F = np.array([Factor.from_mat_struct(f) for f in F])\n",
    "    A = A-1\n",
    "    real_out = out['t10'][i]-1\n",
    "    my_out = solution.mhsw_trans(A, G, F, variant=1)\n",
    "    print(np.all(real_out == my_out))"
   ]
  },
  {
   "cell_type": "markdown",
   "metadata": {},
   "source": [
    "## MHSW Part 2"
   ]
  },
  {
   "cell_type": "code",
   "execution_count": 9,
   "metadata": {},
   "outputs": [
    {
     "name": "stdout",
     "output_type": "stream",
     "text": [
      "True\n",
      "True\n",
      "True\n",
      "True\n",
      "True\n",
      "True\n",
      "True\n",
      "True\n",
      "True\n",
      "True\n"
     ]
    }
   ],
   "source": [
    "sample = loadmat('./data/exampleIOPA5.mat', simplify_cells=True)\n",
    "inp = sample['exampleINPUT']\n",
    "out = sample['exampleOUTPUT']\n",
    "\n",
    "As, Gs, Fs = inp['t11a1'],inp['t11a2'], inp['t11a3']\n",
    "drandom.seed(1)\n",
    "for i in range(10):\n",
    "    \n",
    "    A, G, F = As[i], Gs[i], Fs[i]\n",
    "    G['adj_list'] = commons.adj_matrix_to_adj_list(G['edges'])\n",
    "    G['var2factors'] = np.array([x-1 for x in G['var2factors']], dtype='object')\n",
    "    G['q_list'][:, 0] -= 1\n",
    "    G['q_list'][:, 1] -= 1\n",
    "    F = np.array([Factor.from_mat_struct(f) for f in F])\n",
    "    A = A-1\n",
    "    real_out = out['t11'][i]-1\n",
    "    my_out = solution.mhsw_trans(A, G, F, variant=2)\n",
    "    print(np.all(real_out == my_out))"
   ]
  },
  {
   "cell_type": "markdown",
   "metadata": {},
   "source": [
    "## MCMC Inference Part II"
   ]
  },
  {
   "cell_type": "code",
   "execution_count": 10,
   "metadata": {},
   "outputs": [
    {
     "name": "stderr",
     "output_type": "stream",
     "text": [
      "Running the markov chain.: 100%|██████████| 500/500 [00:00<00:00, 3565.20it/s]\n",
      "Running the markov chain.:  12%|█▏        | 60/500 [00:00<00:00, 591.56it/s]"
     ]
    },
    {
     "name": "stdout",
     "output_type": "stream",
     "text": [
      "True True\n"
     ]
    },
    {
     "name": "stderr",
     "output_type": "stream",
     "text": [
      "Running the markov chain.: 100%|██████████| 500/500 [00:00<00:00, 565.11it/s]"
     ]
    },
    {
     "name": "stdout",
     "output_type": "stream",
     "text": [
      "True True\n"
     ]
    },
    {
     "name": "stderr",
     "output_type": "stream",
     "text": [
      "\n"
     ]
    }
   ],
   "source": [
    "sample = loadmat('./data/exampleIOPA5.mat', simplify_cells=True)\n",
    "inp = sample['exampleINPUT']\n",
    "out = sample['exampleOUTPUT']\n",
    "seeds = [1, 26288942]\n",
    "for i in range(2):\n",
    "    drandom.seed(seeds[i])\n",
    "    G, F, E, trans_name, mix_time, num_samples, sampling_interval, A0 = (inp[f't12a{j}'][i] for j in range(1, 9))\n",
    "    G['adj_list'] = commons.adj_matrix_to_adj_list(G['edges'])\n",
    "    G['var2factors'] = np.array([x-1 for x in G['var2factors']], dtype='object')\n",
    "    F = np.array([Factor.from_mat_struct(f) for f in F])\n",
    "    A0 = A0-1\n",
    "    \n",
    "    M_true = [Factor.from_mat_struct(f) for f in out['t12o1'][i]]\n",
    "    all_samples_true = out['t12o2'][i] - 1\n",
    "    \n",
    "    M, all_samples = solution.mcmc_inference(G, F, E, trans_name, mix_time, num_samples, sampling_interval, A0)\n",
    "    print(M_true == M, np.all(all_samples == all_samples_true))"
   ]
  },
  {
   "cell_type": "code",
   "execution_count": null,
   "metadata": {},
   "outputs": [],
   "source": []
  }
 ],
 "metadata": {
  "kernelspec": {
   "display_name": "Python 3",
   "language": "python",
   "name": "python3"
  },
  "language_info": {
   "codemirror_mode": {
    "name": "ipython",
    "version": 3
   },
   "file_extension": ".py",
   "mimetype": "text/x-python",
   "name": "python",
   "nbconvert_exporter": "python",
   "pygments_lexer": "ipython3",
   "version": "3.9.5"
  }
 },
 "nbformat": 4,
 "nbformat_minor": 4
}
