{
 "cells": [
  {
   "cell_type": "code",
   "execution_count": null,
   "metadata": {},
   "outputs": [],
   "source": [
    "%load_ext autoreload\n",
    "%autoreload 2"
   ]
  },
  {
   "cell_type": "code",
   "execution_count": null,
   "metadata": {},
   "outputs": [],
   "source": [
    "from scipy.io import loadmat\n",
    "import matplotlib.pyplot as plt\n",
    "import numpy as np\n",
    "\n",
    "from IPython.display import HTML\n",
    "\n",
    "import sys\n",
    "sys.path.append('..')\n",
    "import commons\n",
    "from commons.factor import Factor\n",
    "import helper\n",
    "import sol"
   ]
  },
  {
   "cell_type": "code",
   "execution_count": null,
   "metadata": {},
   "outputs": [],
   "source": [
    "def are_equal(a, b, precision=1e-4):\n",
    "    if isinstance(a, (int, float)):\n",
    "        return (abs(a-b) < precision)\n",
    "    elif isinstance(a, np.ndarray):\n",
    "        return (np.allclose(a, b, atol=precision, rtol=0))\n",
    "    elif isinstance(a, dict):\n",
    "        common = set(a) & set(b)\n",
    "        return all([are_equal(a[k], b[k]) for k in common])\n",
    "    else:\n",
    "        if len(a) != len(b):\n",
    "            return False\n",
    "        return all([are_equal(a[i], b[i]) for i in range(len(a))])\n",
    "    "
   ]
  },
  {
   "cell_type": "code",
   "execution_count": null,
   "metadata": {},
   "outputs": [],
   "source": [
    "def load_I(which='TestI0'):\n",
    "    mat = loadmat(f'./data/{which}.mat', simplify_cells=True)[which]\n",
    "    I = {}\n",
    "    \n",
    "    for key in ['random', 'decision', 'utility']:\n",
    "        Fs = mat[f'{key.title()}Factors']\n",
    "        if not isinstance(Fs, list):\n",
    "            Fs = [Fs]\n",
    "        I[f'{key}_factors'] = [Factor.from_matlab(f) for f in Fs]\n",
    "    return I"
   ]
  },
  {
   "cell_type": "markdown",
   "metadata": {},
   "source": [
    "## Quiz 1"
   ]
  },
  {
   "cell_type": "code",
   "execution_count": null,
   "metadata": {},
   "outputs": [],
   "source": [
    "FullI = load_I('FullI')"
   ]
  },
  {
   "cell_type": "code",
   "execution_count": null,
   "metadata": {},
   "outputs": [],
   "source": [
    "sol.simple_calc_expected_utility(FullI)"
   ]
  },
  {
   "cell_type": "markdown",
   "metadata": {},
   "source": [
    "## Quiz 2"
   ]
  },
  {
   "cell_type": "code",
   "execution_count": null,
   "metadata": {},
   "outputs": [],
   "source": [
    "# Note:\n",
    "# In the assignment description, variable name is `3` and value is `2`. \n",
    "# However, for uniformity, in this Python implemenation these are 2 and 1 respectively.\n",
    "# Because, Python indexes start from 0 unlike Matlab.\n",
    "\n",
    "E = {\n",
    "    2: 1 \n",
    "}"
   ]
  },
  {
   "cell_type": "code",
   "execution_count": null,
   "metadata": {},
   "outputs": [],
   "source": [
    "FullI = load_I('FullI')\n",
    "FullI['random_factors'] = helper.observe_evidence(FullI['random_factors'], E, normalize=True)"
   ]
  },
  {
   "cell_type": "code",
   "execution_count": null,
   "metadata": {},
   "outputs": [],
   "source": [
    "sol.simple_calc_expected_utility(FullI)"
   ]
  },
  {
   "cell_type": "code",
   "execution_count": null,
   "metadata": {},
   "outputs": [],
   "source": []
  }
 ],
 "metadata": {
  "kernelspec": {
   "display_name": "Python 3",
   "language": "python",
   "name": "python3"
  },
  "language_info": {
   "codemirror_mode": {
    "name": "ipython",
    "version": 3
   },
   "file_extension": ".py",
   "mimetype": "text/x-python",
   "name": "python",
   "nbconvert_exporter": "python",
   "pygments_lexer": "ipython3",
   "version": "3.9.7"
  }
 },
 "nbformat": 4,
 "nbformat_minor": 4
}
