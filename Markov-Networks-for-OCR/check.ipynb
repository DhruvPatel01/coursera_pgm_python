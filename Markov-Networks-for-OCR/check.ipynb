{
 "cells": [
  {
   "cell_type": "code",
   "execution_count": 1,
   "metadata": {},
   "outputs": [],
   "source": [
    "%load_ext autoreload\n",
    "%autoreload 2"
   ]
  },
  {
   "cell_type": "code",
   "execution_count": 2,
   "metadata": {},
   "outputs": [],
   "source": [
    "import os\n",
    "import sys\n",
    "\n",
    "import numpy as np\n",
    "import matplotlib.pyplot as plt\n",
    "import seaborn\n",
    "\n",
    "\n",
    "\n",
    "sys.path.insert(0, os.path.abspath(os.path.pardir))\n",
    "import commons\n",
    "from commons import utils\n",
    "from commons.factor import Factor\n",
    "\n",
    "import helper\n",
    "import convert_mats\n",
    "from sol import *"
   ]
  },
  {
   "cell_type": "code",
   "execution_count": 3,
   "metadata": {},
   "outputs": [
    {
     "name": "stdout",
     "output_type": "stream",
     "text": [
      "Processing PA3Models.mat\n",
      "Processing Part1SampleImagesInput\n",
      "Processing Part1SampleFactorsOutput\n",
      "Processing Part2SampleFactorsOutput\n",
      "Processing Part2SampleImagesInput\n",
      "Processing Part3SampleImagesInput\n",
      "Processing Part3SampleFactorsOutput\n",
      "Processing Part4SampleFactorOutput\n",
      "Processing Part4SampleImagesInput\n",
      "Processing Part5SampleFactorsOutput\n",
      "Processing Part5SampleImagesInput\n",
      "Processing Part6SampleFactorsInput\n",
      "Processing Part6SampleFactorsOutput\n",
      "Processing PA3Data.mat\n"
     ]
    }
   ],
   "source": [
    "models = convert_mats.pa3_models()\n",
    "samples = convert_mats.pa3_sample_cases()\n",
    "data = convert_mats.pa3_data()"
   ]
  },
  {
   "cell_type": "markdown",
   "metadata": {},
   "source": [
    "## 2.2 Singleton OCR Features\n",
    "\n",
    "- Fill `compute_single_factors` in sol.py"
   ]
  },
  {
   "cell_type": "markdown",
   "metadata": {},
   "source": [
    "__Check for correctness__"
   ]
  },
  {
   "cell_type": "code",
   "execution_count": 4,
   "metadata": {},
   "outputs": [
    {
     "data": {
      "text/plain": [
       "True"
      ]
     },
     "execution_count": 4,
     "metadata": {},
     "output_type": "execute_result"
    }
   ],
   "source": [
    "part1_my_output = compute_single_factors(samples['part1_sample_image_input'], models['image_model'])\n",
    "part1_my_output == samples['part1_sample_factors_output']"
   ]
  },
  {
   "cell_type": "markdown",
   "metadata": {},
   "source": [
    "## 2.3 Performing Inference in the OCR Network"
   ]
  },
  {
   "cell_type": "code",
   "execution_count": 8,
   "metadata": {
    "scrolled": true
   },
   "outputs": [
    {
     "name": "stdout",
     "output_type": "stream",
     "text": [
      "torturing predicted as rorruring\n",
      "verses predicted as terses\n",
      "festivity predicted as gesesvsev\n",
      "peace predicted as qeace\n",
      "offer predicted as orrer\n",
      "flogged predicted as glogged\n",
      "luckless predicted as luckless\n",
      "cocked predicted as eoeked\n",
      "cell predicted as cell\n",
      "chill predicted as chill\n",
      "lidless predicted as lidlezz\n",
      "needle predicted as neeuce\n",
      "realizing predicted as renliying\n",
      "egg predicted as egg\n",
      "rescue predicted as rezrue\n",
      "belonging predicted as belonging\n",
      "mufferson predicted as mutttrgon\n",
      "whether predicted as whgthgr\n",
      "chests predicted as oltsys\n",
      "trilled predicted as trillvg\n",
      "marvelled predicted as nnrvelled\n",
      "slosh predicted as glogh\n",
      "insecure predicted as iaserure\n",
      "highest predicted as hlghest\n",
      "deepest predicted as jeepesl\n",
      "muffled predicted as nuggled\n",
      "suspicion predicted as susplclou\n",
      "marred predicted as marred\n",
      "persuade predicted as porsaedo\n",
      "utter predicted as atten\n",
      "eye predicted as eye\n",
      "artist predicted as nrtizt\n",
      "dreadful predicted as dreadful\n",
      "franklin predicted as trankiin\n",
      "eyelids predicted as eneligs\n",
      "honorable predicted as honorable\n",
      "hugged predicted as huggka\n",
      "buttons predicted as buttong\n",
      "sheriff predicted as oherlff\n",
      "agreeable predicted as ogreeoble\n",
      "sunshine predicted as sunshlnt\n",
      "jammed predicted as jnmmed\n",
      "eighteen predicted as eighteeu\n",
      "snatches predicted as seatchos\n",
      "levelled predicted as reuerrea\n",
      "jimmy predicted as iimmg\n",
      "seized predicted as seiyed\n",
      "privilege predicted as priuilege\n",
      "says predicted as says\n",
      "skiffs predicted as hkiffh\n",
      "smoothing predicted as smootbinr\n",
      "afforded predicted as gttopdgd\n",
      "seek predicted as geek\n",
      "sprays predicted as sprays\n",
      "expressed predicted as expreaaed\n",
      "buffaloes predicted as buaaaloes\n",
      "substance predicted as snnstance\n",
      "exchange predicted as oxchango\n",
      "appeared predicted as appeaeeg\n",
      "matters predicted as matters\n",
      "dared predicted as gayeg\n",
      "tolerably predicted as tolereble\n",
      "consuming predicted as eonsumins\n",
      "hence predicted as hence\n",
      "unwound predicted as unwounj\n",
      "bibles predicted as oioits\n",
      "subdued predicted as subdued\n",
      "sometimes predicted as somezimes\n",
      "vii predicted as uii\n",
      "backward predicted as backnard\n",
      "supposed predicted as adeeoaed\n",
      "innocents predicted as innoconts\n",
      "bluff predicted as bluff\n",
      "apart predicted as aeart\n",
      "odor predicted as odor\n",
      "fiercely predicted as fiercele\n",
      "pills predicted as eills\n",
      "stars predicted as sters\n",
      "hundred predicted as hundred\n",
      "raging predicted as raaina\n",
      "therefore predicted as therepore\n",
      "still predicted as seill\n",
      "unusual predicted as unusual\n",
      "thwarts predicted as thwarts\n",
      "reciting predicted as reeiping\n",
      "smell predicted as smell\n",
      "palace predicted as pdldce\n",
      "singing predicted as scnpcnp\n",
      "nonsense predicted as nonsansa\n",
      "hogsheads predicted as hogshceds\n",
      "whirling predicted as whieliug\n",
      "worrying predicted as worrgieg\n",
      "whoop predicted as uhoop\n",
      "fully predicted as fuiiy\n",
      "unrolled predicted as unrolled\n",
      "business predicted as business\n",
      "revealing predicted as rtutaging\n",
      "december predicted as gecember\n",
      "switches predicted as swirchos\n",
      "wall predicted as uoll\n",
      "Char accuracy: 0.767\n",
      "Word accuracy: 0.220\n"
     ]
    }
   ],
   "source": [
    "char_acc, word_acc = helper.score_model(data, models['image_model'], \n",
    "                                        pairwise_model=None, triplet_list=None)"
   ]
  },
  {
   "cell_type": "code",
   "execution_count": 9,
   "metadata": {},
   "outputs": [
    {
     "data": {
      "text/plain": [
       "(0.7670043415340086, 0.22)"
      ]
     },
     "execution_count": 9,
     "metadata": {},
     "output_type": "execute_result"
    }
   ],
   "source": [
    "char_acc, word_acc"
   ]
  },
  {
   "cell_type": "markdown",
   "metadata": {},
   "source": [
    "## 3 Extending the Network\n",
    "### 3.1 Pairwise Factors\n",
    "#### 3.1.1 Equal pairwise factors"
   ]
  },
  {
   "cell_type": "markdown",
   "metadata": {},
   "source": [
    "1. implement sol.compute_equal_pairwise_factors \n",
    "2. Make sure that correct function is called in helper.build_ocr_network for pairwise model by commenting appropriate lines"
   ]
  },
  {
   "cell_type": "code",
   "execution_count": 21,
   "metadata": {
    "scrolled": true
   },
   "outputs": [
    {
     "name": "stdout",
     "output_type": "stream",
     "text": [
      "torturing predicted as rorruring\n",
      "verses predicted as terses\n",
      "festivity predicted as gesesusty\n",
      "peace predicted as peace\n",
      "offer predicted as orrer\n",
      "flogged predicted as ologged\n",
      "luckless predicted as luckless\n",
      "cocked predicted as cocked\n",
      "cell predicted as cell\n",
      "chill predicted as chill\n",
      "lidless predicted as lidinty\n",
      "needle predicted as neruce\n",
      "realizing predicted as rentiging\n",
      "egg predicted as egg\n",
      "rescue predicted as rearve\n",
      "belonging predicted as belonging\n",
      "mufferson predicted as mustergon\n",
      "whether predicted as whather\n",
      "chests predicted as olests\n",
      "trilled predicted as trilleg\n",
      "marvelled predicted as narvelled\n",
      "slosh predicted as giogh\n",
      "insecure predicted as inserork\n",
      "highest predicted as highest\n",
      "deepest predicted as leepest\n",
      "muffled predicted as nuggled\n",
      "suspicion predicted as suspiciou\n",
      "marred predicted as marred\n",
      "persuade predicted as porsuede\n",
      "utter predicted as ntten\n",
      "eye predicted as ere\n",
      "artist predicted as artigh\n",
      "dreadful predicted as dreadral\n",
      "franklin predicted as tranelin\n",
      "eyelids predicted as eneligh\n",
      "honorable predicted as honorable\n",
      "hugged predicted as hagged\n",
      "buttons predicted as bustong\n",
      "sheriff predicted as sheriff\n",
      "agreeable predicted as ogreroble\n",
      "sunshine predicted as sunshing\n",
      "jammed predicted as jommed\n",
      "eighteen predicted as eighteen\n",
      "snatches predicted as seatches\n",
      "levelled predicted as reverrea\n",
      "jimmy predicted as timmy\n",
      "seized predicted as seiged\n",
      "privilege predicted as privilege\n",
      "says predicted as sers\n",
      "skiffs predicted as ghiffs\n",
      "smoothing predicted as smoollink\n",
      "afforded predicted as sthoghed\n",
      "seek predicted as gerk\n",
      "sprays predicted as sprays\n",
      "expressed predicted as expreaked\n",
      "buffaloes predicted as buatalees\n",
      "substance predicted as sunstance\n",
      "exchange predicted as oxchango\n",
      "appeared predicted as appeanev\n",
      "matters predicted as matiers\n",
      "dared predicted as gateg\n",
      "tolerably predicted as tolereble\n",
      "consuming predicted as consuming\n",
      "hence predicted as hence\n",
      "unwound predicted as unwounj\n",
      "bibles predicted as oioits\n",
      "subdued predicted as subbued\n",
      "sometimes predicted as somedimes\n",
      "vii predicted as uli\n",
      "backward predicted as backnard\n",
      "supposed predicted as aceended\n",
      "innocents predicted as innoconts\n",
      "bluff predicted as bluff\n",
      "apart predicted as apart\n",
      "odor predicted as odor\n",
      "fiercely predicted as tiercele\n",
      "pills predicted as eills\n",
      "stars predicted as sters\n",
      "hundred predicted as hondred\n",
      "raging predicted as rasina\n",
      "therefore predicted as therepore\n",
      "still predicted as seill\n",
      "unusual predicted as unusual\n",
      "thwarts predicted as thearts\n",
      "reciting predicted as reciting\n",
      "smell predicted as smell\n",
      "palace predicted as palace\n",
      "singing predicted as songeng\n",
      "nonsense predicted as nonsense\n",
      "hogsheads predicted as hossheeds\n",
      "whirling predicted as whieling\n",
      "worrying predicted as worrsing\n",
      "whoop predicted as whoop\n",
      "fully predicted as futig\n",
      "unrolled predicted as uarolled\n",
      "business predicted as business\n",
      "revealing predicted as reveating\n",
      "december predicted as verember\n",
      "switches predicted as swirches\n",
      "wall predicted as woll\n",
      "Char accuracy: 0.792\n",
      "Word accuracy: 0.260\n"
     ]
    }
   ],
   "source": [
    "char_acc, word_acc = helper.score_model(data,\n",
    "                                        models['image_model'], \n",
    "                                        pairwise_model=models['pairwise_model'], \n",
    "                                        triplet_list=None)"
   ]
  },
  {
   "cell_type": "code",
   "execution_count": 22,
   "metadata": {},
   "outputs": [
    {
     "data": {
      "text/plain": [
       "(0.7916063675832128, 0.26)"
      ]
     },
     "execution_count": 22,
     "metadata": {},
     "output_type": "execute_result"
    }
   ],
   "source": [
    "char_acc, word_acc"
   ]
  },
  {
   "cell_type": "markdown",
   "metadata": {},
   "source": [
    "#### 3.1.2 Good pairwise factors"
   ]
  },
  {
   "cell_type": "markdown",
   "metadata": {},
   "source": [
    "1. implement sol.compute_pairwise_factors \n",
    "2. Make sure that correct function is called in helper.build_ocr_network for pairwise model by commenting appropriate lines (lines 100-103)"
   ]
  },
  {
   "cell_type": "code",
   "execution_count": 14,
   "metadata": {
    "scrolled": true
   },
   "outputs": [
    {
     "name": "stdout",
     "output_type": "stream",
     "text": [
      "torturing predicted as rorruring\n",
      "verses predicted as terses\n",
      "festivity predicted as gesesusty\n",
      "peace predicted as peace\n",
      "offer predicted as orrer\n",
      "flogged predicted as ologged\n",
      "luckless predicted as luckless\n",
      "cocked predicted as cocked\n",
      "cell predicted as cell\n",
      "chill predicted as chill\n",
      "lidless predicted as lidinty\n",
      "needle predicted as neruce\n",
      "realizing predicted as rentiging\n",
      "egg predicted as egg\n",
      "rescue predicted as rearve\n",
      "belonging predicted as belonging\n",
      "mufferson predicted as mustergon\n",
      "whether predicted as whather\n",
      "chests predicted as olests\n",
      "trilled predicted as trilleg\n",
      "marvelled predicted as narvelled\n",
      "slosh predicted as giogh\n",
      "insecure predicted as inserork\n",
      "highest predicted as highest\n",
      "deepest predicted as leepest\n",
      "muffled predicted as nuggled\n",
      "suspicion predicted as suspiciou\n",
      "marred predicted as marred\n",
      "persuade predicted as porsuede\n",
      "utter predicted as ntten\n",
      "eye predicted as ere\n",
      "artist predicted as artigh\n",
      "dreadful predicted as dreadral\n",
      "franklin predicted as tranelin\n",
      "eyelids predicted as eneligh\n",
      "honorable predicted as honorable\n",
      "hugged predicted as hagged\n",
      "buttons predicted as bustong\n",
      "sheriff predicted as sheriff\n",
      "agreeable predicted as ogreroble\n",
      "sunshine predicted as sunshing\n",
      "jammed predicted as jommed\n",
      "eighteen predicted as eighteen\n",
      "snatches predicted as seatches\n",
      "levelled predicted as reverrea\n",
      "jimmy predicted as timmy\n",
      "seized predicted as seiged\n",
      "privilege predicted as privilege\n",
      "says predicted as sers\n",
      "skiffs predicted as ghiffs\n",
      "smoothing predicted as smoollink\n",
      "afforded predicted as sthoghed\n",
      "seek predicted as gerk\n",
      "sprays predicted as sprays\n",
      "expressed predicted as expreaked\n",
      "buffaloes predicted as buatalees\n",
      "substance predicted as sunstance\n",
      "exchange predicted as oxchango\n",
      "appeared predicted as appeanev\n",
      "matters predicted as matiers\n",
      "dared predicted as gateg\n",
      "tolerably predicted as tolereble\n",
      "consuming predicted as consuming\n",
      "hence predicted as hence\n",
      "unwound predicted as unwounj\n",
      "bibles predicted as oioits\n",
      "subdued predicted as subbued\n",
      "sometimes predicted as somedimes\n",
      "vii predicted as uli\n",
      "backward predicted as backnard\n",
      "supposed predicted as aceended\n",
      "innocents predicted as innoconts\n",
      "bluff predicted as bluff\n",
      "apart predicted as apart\n",
      "odor predicted as odor\n",
      "fiercely predicted as tiercele\n",
      "pills predicted as eills\n",
      "stars predicted as sters\n",
      "hundred predicted as hondred\n",
      "raging predicted as rasina\n",
      "therefore predicted as therepore\n",
      "still predicted as seill\n",
      "unusual predicted as unusual\n",
      "thwarts predicted as thearts\n",
      "reciting predicted as reciting\n",
      "smell predicted as smell\n",
      "palace predicted as palace\n",
      "singing predicted as songeng\n",
      "nonsense predicted as nonsense\n",
      "hogsheads predicted as hossheeds\n",
      "whirling predicted as whieling\n",
      "worrying predicted as worrsing\n",
      "whoop predicted as whoop\n",
      "fully predicted as futig\n",
      "unrolled predicted as uarolled\n",
      "business predicted as business\n",
      "revealing predicted as reveating\n",
      "december predicted as verember\n",
      "switches predicted as swirches\n",
      "wall predicted as woll\n",
      "Char accuracy: 0.792\n",
      "Word accuracy: 0.260\n"
     ]
    }
   ],
   "source": [
    "char_acc, word_acc = helper.score_model(data, models['image_model'], models['pairwise_model'])"
   ]
  },
  {
   "cell_type": "code",
   "execution_count": 15,
   "metadata": {},
   "outputs": [
    {
     "data": {
      "text/plain": [
       "(0.7916063675832128, 0.26)"
      ]
     },
     "execution_count": 15,
     "metadata": {},
     "output_type": "execute_result"
    }
   ],
   "source": [
    "char_acc, word_acc"
   ]
  },
  {
   "cell_type": "markdown",
   "metadata": {},
   "source": [
    "### 3.3 Triplet Factors\n",
    "\n",
    "1. implement sol.compute_triplet_factors "
   ]
  },
  {
   "cell_type": "code",
   "execution_count": 16,
   "metadata": {
    "scrolled": true
   },
   "outputs": [
    {
     "name": "stdout",
     "output_type": "stream",
     "text": [
      "torturing predicted as rorturing\n",
      "verses predicted as terses\n",
      "festivity predicted as gestsesty\n",
      "peace predicted as peace\n",
      "offer predicted as offer\n",
      "flogged predicted as plogged\n",
      "luckless predicted as luckless\n",
      "cocked predicted as cocked\n",
      "cell predicted as cell\n",
      "chill predicted as chill\n",
      "lidless predicted as liblest\n",
      "needle predicted as neruce\n",
      "realizing predicted as rentiging\n",
      "egg predicted as egg\n",
      "rescue predicted as rearve\n",
      "belonging predicted as beionging\n",
      "mufferson predicted as mustergen\n",
      "whether predicted as whather\n",
      "chests predicted as olests\n",
      "trilled predicted as triling\n",
      "marvelled predicted as nervelled\n",
      "slosh predicted as tiogh\n",
      "insecure predicted as ingecure\n",
      "highest predicted as highest\n",
      "deepest predicted as derpost\n",
      "muffled predicted as nuggled\n",
      "suspicion predicted as suspiciou\n",
      "marred predicted as marred\n",
      "persuade predicted as poredede\n",
      "utter predicted as ntter\n",
      "eye predicted as ere\n",
      "artist predicted as arting\n",
      "dreadful predicted as dreadeal\n",
      "franklin predicted as tranelin\n",
      "eyelids predicted as eveligh\n",
      "honorable predicted as honorable\n",
      "hugged predicted as hugged\n",
      "buttons predicted as bustong\n",
      "sheriff predicted as sheriff\n",
      "agreeable predicted as ogreroble\n",
      "sunshine predicted as sunshing\n",
      "jammed predicted as jommed\n",
      "eighteen predicted as eighteen\n",
      "snatches predicted as seatchas\n",
      "levelled predicted as reverrea\n",
      "jimmy predicted as timmy\n",
      "seized predicted as seized\n",
      "privilege predicted as privilege\n",
      "says predicted as says\n",
      "skiffs predicted as shiffs\n",
      "smoothing predicted as smoolline\n",
      "afforded predicted as ghtorded\n",
      "seek predicted as gerk\n",
      "sprays predicted as sprays\n",
      "expressed predicted as expreaked\n",
      "buffaloes predicted as bustaines\n",
      "substance predicted as sonstance\n",
      "exchange predicted as oxchango\n",
      "appeared predicted as appeared\n",
      "matters predicted as matters\n",
      "dared predicted as gateg\n",
      "tolerably predicted as tolerable\n",
      "consuming predicted as consuming\n",
      "hence predicted as hence\n",
      "unwound predicted as unwound\n",
      "bibles predicted as oioing\n",
      "subdued predicted as subdued\n",
      "sometimes predicted as somedimes\n",
      "vii predicted as uil\n",
      "backward predicted as bacheard\n",
      "supposed predicted as aveended\n",
      "innocents predicted as ingeconts\n",
      "bluff predicted as bluff\n",
      "apart predicted as apart\n",
      "odor predicted as odor\n",
      "fiercely predicted as tiercele\n",
      "pills predicted as eills\n",
      "stars predicted as sters\n",
      "hundred predicted as hundred\n",
      "raging predicted as rasing\n",
      "therefore predicted as therepore\n",
      "still predicted as still\n",
      "unusual predicted as uausual\n",
      "thwarts predicted as theares\n",
      "reciting predicted as reciting\n",
      "smell predicted as smell\n",
      "palace predicted as paince\n",
      "singing predicted as singing\n",
      "nonsense predicted as nonsanse\n",
      "hogsheads predicted as houshreds\n",
      "whirling predicted as whieling\n",
      "worrying predicted as woreding\n",
      "whoop predicted as whoop\n",
      "fully predicted as fully\n",
      "unrolled predicted as uarolled\n",
      "business predicted as business\n",
      "revealing predicted as reveating\n",
      "december predicted as verember\n",
      "switches predicted as suirchas\n",
      "wall predicted as uall\n",
      "Char accuracy: 0.800\n",
      "Word accuracy: 0.340\n"
     ]
    }
   ],
   "source": [
    "char_acc, word_acc = helper.score_model(data, models['image_model'], \n",
    "                                        models['pairwise_model'], \n",
    "                                        models['triplet_list'])"
   ]
  },
  {
   "cell_type": "code",
   "execution_count": 17,
   "metadata": {},
   "outputs": [
    {
     "data": {
      "text/plain": [
       "(0.8002894356005789, 0.34)"
      ]
     },
     "execution_count": 17,
     "metadata": {},
     "output_type": "execute_result"
    }
   ],
   "source": [
    "char_acc, word_acc"
   ]
  },
  {
   "cell_type": "markdown",
   "metadata": {},
   "source": [
    "### 3.4 Image Similarity Factors"
   ]
  },
  {
   "cell_type": "code",
   "execution_count": 24,
   "metadata": {
    "scrolled": true
   },
   "outputs": [
    {
     "name": "stdout",
     "output_type": "stream",
     "text": [
      "torturing predicted as torturing\n",
      "verses predicted as terses\n",
      "festivity predicted as gestsesty\n",
      "peace predicted as peace\n",
      "offer predicted as offer\n",
      "flogged predicted as plogged\n",
      "luckless predicted as luckless\n",
      "cocked predicted as cocked\n",
      "cell predicted as cell\n",
      "chill predicted as chill\n",
      "lidless predicted as liblest\n",
      "needle predicted as neruce\n",
      "realizing predicted as rentiging\n",
      "egg predicted as egg\n",
      "rescue predicted as rearve\n",
      "belonging predicted as beionging\n",
      "mufferson predicted as muffergen\n",
      "whether predicted as whether\n",
      "chests predicted as olests\n",
      "trilled predicted as trillea\n",
      "marvelled predicted as nervelled\n",
      "slosh predicted as tioth\n",
      "insecure predicted as ingecure\n",
      "highest predicted as highest\n",
      "deepest predicted as leepest\n",
      "muffled predicted as nuggled\n",
      "suspicion predicted as suspiciou\n",
      "marred predicted as marred\n",
      "persuade predicted as poredede\n",
      "utter predicted as ntter\n",
      "eye predicted as ere\n",
      "artist predicted as arting\n",
      "dreadful predicted as dreadeal\n",
      "franklin predicted as tranelin\n",
      "eyelids predicted as eveligh\n",
      "honorable predicted as honorable\n",
      "hugged predicted as hugged\n",
      "buttons predicted as bustong\n",
      "sheriff predicted as sheriff\n",
      "agreeable predicted as ogreroble\n",
      "sunshine predicted as sunshing\n",
      "jammed predicted as jommed\n",
      "eighteen predicted as eighteen\n",
      "snatches predicted as seatchas\n",
      "levelled predicted as reverrea\n",
      "jimmy predicted as timmy\n",
      "seized predicted as seized\n",
      "privilege predicted as privilege\n",
      "says predicted as says\n",
      "skiffs predicted as shiffs\n",
      "smoothing predicted as smoolline\n",
      "afforded predicted as ghtorded\n",
      "seek predicted as geek\n",
      "sprays predicted as sprays\n",
      "expressed predicted as expreaked\n",
      "buffaloes predicted as bustaines\n",
      "substance predicted as sonstance\n",
      "exchange predicted as oxchango\n",
      "appeared predicted as appeared\n",
      "matters predicted as matters\n",
      "dared predicted as gateg\n",
      "tolerably predicted as tolerable\n",
      "consuming predicted as consuming\n",
      "hence predicted as hence\n",
      "unwound predicted as unwound\n",
      "bibles predicted as oioing\n",
      "subdued predicted as subdued\n",
      "sometimes predicted as somedimes\n",
      "vii predicted as uil\n",
      "backward predicted as bacheard\n",
      "supposed predicted as aveended\n",
      "innocents predicted as ingeconts\n",
      "bluff predicted as bluff\n",
      "apart predicted as apart\n",
      "odor predicted as odor\n",
      "fiercely predicted as tiercele\n",
      "pills predicted as eills\n",
      "stars predicted as sters\n",
      "hundred predicted as hundred\n",
      "raging predicted as rasing\n",
      "therefore predicted as therepore\n",
      "still predicted as still\n",
      "unusual predicted as uausual\n",
      "thwarts predicted as thearts\n",
      "reciting predicted as reciting\n",
      "smell predicted as smell\n",
      "palace predicted as palace\n",
      "singing predicted as singing\n",
      "nonsense predicted as nonsanse\n",
      "hogsheads predicted as houshreds\n",
      "whirling predicted as whieling\n",
      "worrying predicted as woreding\n",
      "whoop predicted as whoop\n",
      "fully predicted as fully\n",
      "unrolled predicted as uarolled\n",
      "business predicted as business\n",
      "revealing predicted as reveating\n",
      "december predicted as verember\n",
      "switches predicted as suirchas\n",
      "wall predicted as uall\n",
      "Char accuracy: 0.816\n",
      "Word accuracy: 0.370\n"
     ]
    }
   ],
   "source": [
    "models['image_model']['ignore_similarity'] = False\n",
    "char_acc, word_acc = helper.score_model(data, models['image_model'], models['pairwise_model'], models['triplet_list'])"
   ]
  },
  {
   "cell_type": "code",
   "execution_count": 26,
   "metadata": {},
   "outputs": [
    {
     "data": {
      "text/plain": [
       "(0.8162083936324168, 0.37)"
      ]
     },
     "execution_count": 26,
     "metadata": {},
     "output_type": "execute_result"
    }
   ],
   "source": [
    "char_acc, word_acc"
   ]
  },
  {
   "cell_type": "code",
   "execution_count": null,
   "metadata": {},
   "outputs": [],
   "source": []
  }
 ],
 "metadata": {
  "kernelspec": {
   "display_name": "Python 3",
   "language": "python",
   "name": "python3"
  },
  "language_info": {
   "codemirror_mode": {
    "name": "ipython",
    "version": 3
   },
   "file_extension": ".py",
   "mimetype": "text/x-python",
   "name": "python",
   "nbconvert_exporter": "python",
   "pygments_lexer": "ipython3",
   "version": "3.9.7"
  }
 },
 "nbformat": 4,
 "nbformat_minor": 4
}
