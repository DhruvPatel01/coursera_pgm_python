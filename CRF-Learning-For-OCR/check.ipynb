{
 "cells": [
  {
   "cell_type": "code",
   "execution_count": 1,
   "metadata": {},
   "outputs": [],
   "source": [
    "%load_ext autoreload\n",
    "%autoreload 2"
   ]
  },
  {
   "cell_type": "code",
   "execution_count": 2,
   "metadata": {},
   "outputs": [],
   "source": [
    "import sys\n",
    "sys.path.insert(0, '..')\n",
    "import numpy as np\n",
    "import matplotlib.pyplot as plt\n",
    "from scipy.io import loadmat\n",
    "\n",
    "from instance_neg_log_likelyhood import *\n",
    "import helper\n",
    "import solution\n"
   ]
  },
  {
   "cell_type": "markdown",
   "metadata": {},
   "source": [
    "# Part 1\n",
    "## Stochastic Gradient Descent"
   ]
  },
  {
   "cell_type": "code",
   "execution_count": 3,
   "metadata": {},
   "outputs": [],
   "source": [
    "X = loadmat(\"./data/Train1X.mat\")['Train1X']\n",
    "y = loadmat(\"./data/Train1Y.mat\")['Train1Y'].squeeze()"
   ]
  },
  {
   "cell_type": "code",
   "execution_count": 4,
   "metadata": {},
   "outputs": [],
   "source": [
    "theta = helper.lr_train(X, y, 0)"
   ]
  },
  {
   "cell_type": "code",
   "execution_count": 5,
   "metadata": {},
   "outputs": [],
   "source": [
    "pred = helper.lr_predict(X, theta)"
   ]
  },
  {
   "cell_type": "code",
   "execution_count": 6,
   "metadata": {},
   "outputs": [
    {
     "data": {
      "text/plain": [
       "0.96"
      ]
     },
     "execution_count": 6,
     "metadata": {},
     "output_type": "execute_result"
    }
   ],
   "source": [
    "helper.lr_accuracy(y, pred)"
   ]
  },
  {
   "cell_type": "markdown",
   "metadata": {},
   "source": [
    "### Test set"
   ]
  },
  {
   "cell_type": "code",
   "execution_count": 7,
   "metadata": {},
   "outputs": [],
   "source": [
    "X_test = loadmat(\"./data/Test1X.mat\")['Test1X']\n",
    "y_test = loadmat(\"./data/Test1Y.mat\")['Test1Y'].squeeze()"
   ]
  },
  {
   "cell_type": "code",
   "execution_count": 8,
   "metadata": {},
   "outputs": [
    {
     "data": {
      "text/plain": [
       "0.9125"
      ]
     },
     "execution_count": 8,
     "metadata": {},
     "output_type": "execute_result"
    }
   ],
   "source": [
    "pred_test = helper.lr_predict(X_test, theta)\n",
    "helper.lr_accuracy(y_test, pred_test)"
   ]
  },
  {
   "cell_type": "markdown",
   "metadata": {},
   "source": [
    "### LR Search Lambdas"
   ]
  },
  {
   "cell_type": "code",
   "execution_count": 9,
   "metadata": {},
   "outputs": [],
   "source": [
    "X_val = loadmat(\"./data/Validation1X.mat\")['Validation1X']\n",
    "y_val = loadmat(\"./data/Validation1Y.mat\")['Validation1Y'].squeeze()\n",
    "lambdas = loadmat(\"./data/Part1Lambdas.mat\")['Part1Lambdas'].squeeze()\n",
    "expected_out = loadmat(\"./data/ValidationAccuracy.mat\")['ValidationAccuracy'].squeeze()"
   ]
  },
  {
   "cell_type": "code",
   "execution_count": 10,
   "metadata": {},
   "outputs": [],
   "source": [
    "acc = solution.lr_search_lambda_sgd(X, y, X_val, y_val, lambdas)"
   ]
  },
  {
   "cell_type": "code",
   "execution_count": 11,
   "metadata": {},
   "outputs": [
    {
     "data": {
      "text/plain": [
       "True"
      ]
     },
     "execution_count": 11,
     "metadata": {},
     "output_type": "execute_result"
    }
   ],
   "source": [
    "np.allclose(acc, expected_out)"
   ]
  },
  {
   "cell_type": "markdown",
   "metadata": {},
   "source": [
    "# Part 2"
   ]
  },
  {
   "cell_type": "code",
   "execution_count": 12,
   "metadata": {},
   "outputs": [],
   "source": [
    "data = loadmat(\"./data/Part2Sample.mat\", simplify_cells=True)\n",
    "\n",
    "sample_calibrated = [Factor.from_matlab(clique) for clique in data['sampleCalibratedTree']['cliqueList']]\n",
    "sample_calibrated_tree = {'clique_list': sample_calibrated, 'adj_list': {}}\n",
    "sample_uncalibrated = [Factor.from_matlab(clique) for clique in data['sampleUncalibratedTree']['cliqueList']]\n",
    "sample_uncalibrated_tree = {'clique_list': sample_uncalibrated, 'adj_list': {}}\n",
    "sample_logZ = data['sampleLogZ']\n",
    "\n",
    "edges = data['sampleUncalibratedTree']['edges']\n",
    "for i in range(len(edges)):\n",
    "    sample_uncalibrated_tree['adj_list'][i] = set()\n",
    "    sample_calibrated_tree['adj_list'][i] = set()\n",
    "    for j in range(len(edges)):\n",
    "        if edges[i, j] == 1:\n",
    "            sample_uncalibrated_tree['adj_list'][i].add(j)\n",
    "            sample_calibrated_tree['adj_list'][i].add(j)\n",
    "            \n",
    "#all_data = loadmat(\"./data/Part2FullDataset.mat\", simplify_cells=True)"
   ]
  },
  {
   "cell_type": "markdown",
   "metadata": {},
   "source": [
    "## Check LogZ (Clique Tree Calibrate: Implement it in solution.py)"
   ]
  },
  {
   "cell_type": "code",
   "execution_count": 13,
   "metadata": {},
   "outputs": [],
   "source": [
    "out_calib, out_logZ = solution.clique_tree_calibrate(sample_uncalibrated_tree, True)"
   ]
  },
  {
   "cell_type": "code",
   "execution_count": 14,
   "metadata": {},
   "outputs": [
    {
     "data": {
      "text/plain": [
       "(True, True)"
      ]
     },
     "execution_count": 14,
     "metadata": {},
     "output_type": "execute_result"
    }
   ],
   "source": [
    "out_calib == sample_calibrated, abs(out_logZ - sample_logZ ) < 1e-10"
   ]
  },
  {
   "cell_type": "markdown",
   "metadata": {},
   "source": [
    "## Instance Neg Log Likelyhood (Implement it in instance_neg_log_likelyhood.py)"
   ]
  },
  {
   "cell_type": "code",
   "execution_count": 15,
   "metadata": {},
   "outputs": [
    {
     "data": {
      "text/plain": [
       "{'num_hidden_states': 26, 'num_observed_states': 2, 'lambda': 0.003}"
      ]
     },
     "execution_count": 15,
     "metadata": {},
     "output_type": "execute_result"
    }
   ],
   "source": [
    "sample_x = data['sampleX']-1\n",
    "sample_y = data['sampleY']-1\n",
    "sample_theta = data['sampleTheta']\n",
    "sample_params = data['sampleModelParams']\n",
    "model_param = {'num_hidden_states': sample_params['numHiddenStates'], \n",
    "               'num_observed_states': sample_params['numObservedStates'],\n",
    "               'lambda': sample_params['lambda']}\n",
    "model_param"
   ]
  },
  {
   "cell_type": "code",
   "execution_count": 16,
   "metadata": {},
   "outputs": [],
   "source": [
    "nll, grad = instance_neg_log_likelyhood(sample_x, sample_y, sample_theta, model_param)"
   ]
  },
  {
   "cell_type": "code",
   "execution_count": 17,
   "metadata": {},
   "outputs": [
    {
     "data": {
      "text/plain": [
       "(14.126845092942453, 14.126845092942455, True)"
      ]
     },
     "execution_count": 17,
     "metadata": {},
     "output_type": "execute_result"
    }
   ],
   "source": [
    "nll, data['sampleNLL'], abs(nll - data['sampleNLL']) < 1e-8"
   ]
  },
  {
   "cell_type": "code",
   "execution_count": 18,
   "metadata": {},
   "outputs": [
    {
     "data": {
      "text/plain": [
       "True"
      ]
     },
     "execution_count": 18,
     "metadata": {},
     "output_type": "execute_result"
    }
   ],
   "source": [
    "np.allclose(grad, data['sampleGrad'])"
   ]
  }
 ],
 "metadata": {
  "kernelspec": {
   "display_name": "Python 3",
   "language": "python",
   "name": "python3"
  },
  "language_info": {
   "codemirror_mode": {
    "name": "ipython",
    "version": 3
   },
   "file_extension": ".py",
   "mimetype": "text/x-python",
   "name": "python",
   "nbconvert_exporter": "python",
   "pygments_lexer": "ipython3",
   "version": "3.9.5"
  }
 },
 "nbformat": 4,
 "nbformat_minor": 4
}
