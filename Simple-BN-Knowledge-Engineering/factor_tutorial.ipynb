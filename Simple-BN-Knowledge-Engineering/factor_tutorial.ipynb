{
 "cells": [
  {
   "cell_type": "code",
   "execution_count": 26,
   "metadata": {},
   "outputs": [],
   "source": [
    "import itertools\n",
    "import pprint"
   ]
  },
  {
   "cell_type": "markdown",
   "metadata": {},
   "source": [
    "In this an subsequent assignments we will be working with factors.\n",
    "\n",
    "In Python assignments, factors are instances of class `Factor`. This tutorial goes through the \n",
    "basic implementation of it."
   ]
  },
  {
   "cell_type": "code",
   "execution_count": 12,
   "metadata": {},
   "outputs": [],
   "source": [
    "class Factor:\n",
    "    def __init__(self, var, domains, init=None):\n",
    "        self.domains = [range(d) for d in domains]\n",
    "        self.var = var\n",
    "        self.val = {}\n",
    "        \n",
    "        for assignment in itertools.product(*self.domains):\n",
    "            self.val[assignment] = init\n",
    "            \n",
    "    def __getitem__(self, assignment):\n",
    "        if isinstance(assignment, dict):\n",
    "            assignment = tuple(assignment[v] for v in self.var)\n",
    "        return self.val[assignment]\n",
    "    \n",
    "    def __setitem__(self, assignment, value):\n",
    "        if isinstance(assignment, dict):\n",
    "            assignment = tuple(assignment[v] for v in self.var)\n",
    "        self.val[assignment] = value\n",
    "        \n",
    "    def __repr__(self):\n",
    "        return repr(self.val)"
   ]
  },
  {
   "cell_type": "markdown",
   "metadata": {},
   "source": [
    "## Creating a factor\n",
    "\n",
    "`phi = Factor([2, 0, 1], [2, 2, 2], init=1.0)`\n",
    "\n",
    "creates a factor over variables X_2, X_0, X_1, which are all binary\n",
    "valued, because `phi.domains[i]` (the cardinality of X_i, |Val(X_i)|) is 2.\n",
    "\n",
    "phi(X_2, X_0, X_1) = 1 for any assignment to the variables."
   ]
  },
  {
   "cell_type": "code",
   "execution_count": 28,
   "metadata": {},
   "outputs": [],
   "source": [
    "phi = Factor([2, 0, 1], [2, 2, 2], init=1.0)"
   ]
  },
  {
   "cell_type": "code",
   "execution_count": 29,
   "metadata": {},
   "outputs": [
    {
     "data": {
      "text/plain": [
       "{(0, 0, 0): 1.0, (0, 0, 1): 1.0, (0, 1, 0): 1.0, (0, 1, 1): 1.0, (1, 0, 0): 1.0, (1, 0, 1): 1.0, (1, 1, 0): 1.0, (1, 1, 1): 1.0}"
      ]
     },
     "execution_count": 29,
     "metadata": {},
     "output_type": "execute_result"
    }
   ],
   "source": [
    "phi"
   ]
  },
  {
   "cell_type": "markdown",
   "metadata": {},
   "source": [
    "## Getting and setting values of factor\n",
    "\n",
    "There are two ways to get the value of factor. Indexing by\n",
    "1. a tuple\n",
    "2. a dictionary\n",
    "\n",
    "When index is a tuple, the value ordering must be same as provided in `var` argument while constructing  the factor. Dictionary allows to stop worring about order.\n",
    "\n",
    "Say you want to get the value of assignment $X_0 = 1, X_1 = 0, X_2 = 1$, follwing are the ways.\n",
    "\n",
    "- phi.var = [2, 0, 1] => so tuple index must be $(X_2, X_0, X_1)$"
   ]
  },
  {
   "cell_type": "code",
   "execution_count": 30,
   "metadata": {},
   "outputs": [
    {
     "data": {
      "text/plain": [
       "1.0"
      ]
     },
     "execution_count": 30,
     "metadata": {},
     "output_type": "execute_result"
    }
   ],
   "source": [
    "phi[1, 1, 0]"
   ]
  },
  {
   "cell_type": "code",
   "execution_count": 31,
   "metadata": {},
   "outputs": [
    {
     "data": {
      "text/plain": [
       "1.0"
      ]
     },
     "execution_count": 31,
     "metadata": {},
     "output_type": "execute_result"
    }
   ],
   "source": [
    "# alternatively you can,\n",
    "phi[{0: 1, \n",
    "     1: 0, \n",
    "     2: 1}]"
   ]
  },
  {
   "cell_type": "markdown",
   "metadata": {},
   "source": [
    "Setting values is similar."
   ]
  },
  {
   "cell_type": "code",
   "execution_count": 32,
   "metadata": {},
   "outputs": [],
   "source": [
    "phi[{0: 1, \n",
    "     1: 0, \n",
    "     2: 1}] = 6.0"
   ]
  },
  {
   "cell_type": "code",
   "execution_count": 35,
   "metadata": {},
   "outputs": [],
   "source": [
    "assert phi[1, 1, 0] == 6."
   ]
  },
  {
   "cell_type": "code",
   "execution_count": 36,
   "metadata": {},
   "outputs": [
    {
     "data": {
      "text/plain": [
       "{(): None}"
      ]
     },
     "execution_count": 36,
     "metadata": {},
     "output_type": "execute_result"
    }
   ],
   "source": [
    "Factor([], [])"
   ]
  },
  {
   "cell_type": "code",
   "execution_count": null,
   "metadata": {},
   "outputs": [],
   "source": []
  }
 ],
 "metadata": {
  "kernelspec": {
   "display_name": "Python 3",
   "language": "python",
   "name": "python3"
  },
  "language_info": {
   "codemirror_mode": {
    "name": "ipython",
    "version": 3
   },
   "file_extension": ".py",
   "mimetype": "text/x-python",
   "name": "python",
   "nbconvert_exporter": "python",
   "pygments_lexer": "ipython3",
   "version": "3.9.7"
  }
 },
 "nbformat": 4,
 "nbformat_minor": 4
}
