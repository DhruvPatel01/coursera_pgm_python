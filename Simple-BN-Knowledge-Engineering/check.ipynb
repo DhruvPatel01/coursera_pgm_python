{
 "cells": [
  {
   "cell_type": "code",
   "execution_count": 3,
   "metadata": {},
   "outputs": [],
   "source": [
    "%load_ext autoreload\n",
    "%autoreload 2"
   ]
  },
  {
   "cell_type": "code",
   "execution_count": 4,
   "metadata": {},
   "outputs": [],
   "source": [
    "from scipy.io import loadmat\n",
    "\n",
    "import sol\n",
    "import helper"
   ]
  },
  {
   "cell_type": "code",
   "execution_count": 5,
   "metadata": {},
   "outputs": [],
   "source": [
    "A = sol.Factor([0], [2])\n",
    "A[0] = .11\n",
    "A[1] = .89\n",
    "\n",
    "B = sol.Factor([1, 0], [2, 2])\n",
    "B[0, 0] = .59\n",
    "B[1, 0] = .41\n",
    "B[0, 1] = .22\n",
    "B[1, 1] = .78\n",
    "\n",
    "C = sol.Factor([2, 1], [2, 2])\n",
    "C[0, 0] = .39\n",
    "C[1, 0] = .61\n",
    "C[0, 1] = .06\n",
    "C[1, 1] = .94"
   ]
  },
  {
   "cell_type": "code",
   "execution_count": 6,
   "metadata": {},
   "outputs": [],
   "source": [
    "def print_factor(F):\n",
    "    for k, v in F.val.items():\n",
    "        print(k, round(v, 4))"
   ]
  },
  {
   "cell_type": "markdown",
   "metadata": {},
   "source": [
    "# Factor Product\n",
    "\n",
    "`print_factor(sol.factor_product(A, B))` should give:\n",
    "\n",
    "```\n",
    "(0, 0) 0.0649\n",
    "(0, 1) 0.0451\n",
    "(1, 0) 0.1958\n",
    "(1, 1) 0.6942\n",
    "```"
   ]
  },
  {
   "cell_type": "code",
   "execution_count": 7,
   "metadata": {},
   "outputs": [
    {
     "name": "stdout",
     "output_type": "stream",
     "text": [
      "(0, 0) 0.0649\n",
      "(0, 1) 0.0451\n",
      "(1, 0) 0.1958\n",
      "(1, 1) 0.6942\n"
     ]
    }
   ],
   "source": [
    "print_factor(sol.factor_product(A, B))"
   ]
  },
  {
   "cell_type": "markdown",
   "metadata": {},
   "source": [
    "## Factor Marginalization\n",
    "\n",
    "`print_factor(sol.factor_marginalization(B, [1]))` should print:\n",
    "\n",
    "```\n",
    "(0,) 1.0\n",
    "(1,) 1.0\n",
    "```"
   ]
  },
  {
   "cell_type": "code",
   "execution_count": 8,
   "metadata": {},
   "outputs": [
    {
     "name": "stdout",
     "output_type": "stream",
     "text": [
      "(0,) 1.0\n",
      "(1,) 1.0\n"
     ]
    }
   ],
   "source": [
    "print_factor(sol.factor_marginalization(B, [1]))"
   ]
  },
  {
   "cell_type": "markdown",
   "metadata": {},
   "source": [
    "## Observe Evidence\n",
    "\n",
    "```\n",
    "obs == [{(0,): 0.11, (1,): 0.89},\n",
    "        {(0, 0): 0.59, (0, 1): 0.22, (1, 0): 0, (1, 1): 0},\n",
    "        {(0, 0): 0, (0, 1): 0, (1, 0): 0.61, (1, 1): 0}]\n",
    "```"
   ]
  },
  {
   "cell_type": "code",
   "execution_count": 9,
   "metadata": {},
   "outputs": [],
   "source": [
    "# Make copy of A, B, C\n",
    "Fs = []\n",
    "for F in [A, B, C]:\n",
    "    new = sol.Factor(F.vars, F.card)\n",
    "    for k, v in F.val.items():\n",
    "        new[k] = v\n",
    "    Fs.append(new)"
   ]
  },
  {
   "cell_type": "code",
   "execution_count": 10,
   "metadata": {},
   "outputs": [],
   "source": [
    "obs = sol.observe_evidence(Fs, {1: 0, 2: 1})"
   ]
  },
  {
   "cell_type": "code",
   "execution_count": 11,
   "metadata": {},
   "outputs": [
    {
     "data": {
      "text/plain": [
       "[{(0,): 0.11, (1,): 0.89},\n",
       " {(0, 0): 0.59, (0, 1): 0.22, (1, 0): 0, (1, 1): 0},\n",
       " {(0, 0): 0, (0, 1): 0, (1, 0): 0.61, (1, 1): 0}]"
      ]
     },
     "execution_count": 11,
     "metadata": {},
     "output_type": "execute_result"
    }
   ],
   "source": [
    "obs"
   ]
  },
  {
   "cell_type": "markdown",
   "metadata": {},
   "source": [
    "## Compute Joint Distribution\n",
    "\n",
    "Should print: \n",
    "\n",
    "```\n",
    "[0, 1, 2]\n",
    "\n",
    "(0, 0, 0) 0.0253\n",
    "(0, 0, 1) 0.0396\n",
    "(0, 1, 0) 0.0027\n",
    "(0, 1, 1) 0.0424\n",
    "(1, 0, 0) 0.0764\n",
    "(1, 0, 1) 0.1194\n",
    "(1, 1, 0) 0.0417\n",
    "(1, 1, 1) 0.6525\n",
    "```"
   ]
  },
  {
   "cell_type": "code",
   "execution_count": 12,
   "metadata": {},
   "outputs": [],
   "source": [
    "F = sol.compute_joint_distribution([A, B, C])"
   ]
  },
  {
   "cell_type": "code",
   "execution_count": 13,
   "metadata": {},
   "outputs": [
    {
     "name": "stdout",
     "output_type": "stream",
     "text": [
      "[0, 1, 2]\n",
      "\n",
      "(0, 0, 0) 0.0253\n",
      "(0, 0, 1) 0.0396\n",
      "(0, 1, 0) 0.0027\n",
      "(0, 1, 1) 0.0424\n",
      "(1, 0, 0) 0.0764\n",
      "(1, 0, 1) 0.1194\n",
      "(1, 1, 0) 0.0417\n",
      "(1, 1, 1) 0.6525\n"
     ]
    }
   ],
   "source": [
    "print(F.vars)\n",
    "print()\n",
    "print_factor(F)"
   ]
  },
  {
   "cell_type": "markdown",
   "metadata": {},
   "source": [
    "## Compute Marginal\n",
    "\n",
    "`print_factor(F)`  should print:\n",
    "\n",
    "```\n",
    "(0, 0) 0.0858\n",
    "(0, 1) 0.1342\n",
    "(1, 0) 0.0468\n",
    "(1, 1) 0.7332\n",
    "```\n"
   ]
  },
  {
   "cell_type": "code",
   "execution_count": 14,
   "metadata": {},
   "outputs": [],
   "source": [
    "# Make copy of A, B, C\n",
    "Fs = []\n",
    "for F in [A, B, C]:\n",
    "    new = sol.Factor(F.vars, F.card)\n",
    "    for k, v in F.val.items():\n",
    "        new[k] = v\n",
    "    Fs.append(new)"
   ]
  },
  {
   "cell_type": "code",
   "execution_count": 15,
   "metadata": {},
   "outputs": [
    {
     "name": "stdout",
     "output_type": "stream",
     "text": [
      "(0, 0) 0.0858\n",
      "(0, 1) 0.1342\n",
      "(1, 0) 0.0468\n",
      "(1, 1) 0.7332\n"
     ]
    }
   ],
   "source": [
    "F = sol.compute_marginal({1, 2}, Fs, {0: 1})\n",
    "\n",
    "print_factor(F)"
   ]
  },
  {
   "cell_type": "code",
   "execution_count": null,
   "metadata": {},
   "outputs": [],
   "source": []
  }
 ],
 "metadata": {
  "kernelspec": {
   "display_name": "Python 3",
   "language": "python",
   "name": "python3"
  },
  "language_info": {
   "codemirror_mode": {
    "name": "ipython",
    "version": 3
   },
   "file_extension": ".py",
   "mimetype": "text/x-python",
   "name": "python",
   "nbconvert_exporter": "python",
   "pygments_lexer": "ipython3",
   "version": "3.9.7"
  }
 },
 "nbformat": 4,
 "nbformat_minor": 4
}
