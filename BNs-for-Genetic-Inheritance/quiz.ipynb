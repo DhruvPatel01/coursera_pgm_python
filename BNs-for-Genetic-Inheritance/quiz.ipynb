{
 "cells": [
  {
   "cell_type": "code",
   "execution_count": 2,
   "metadata": {},
   "outputs": [],
   "source": [
    "import numpy as np\n",
    "\n",
    "import helper\n",
    "import sol"
   ]
  },
  {
   "cell_type": "markdown",
   "metadata": {},
   "source": [
    "# Quiz 1 and 2\n",
    "\n",
    "Just run below cell once you have implemented `sol.construct_genetic_network`. \n",
    "\n",
    "This will save `cysticFibrosisBayesNet.net` in this directory. You can open that file with samiam and run the inference. Same instruction as PDF applies."
   ]
  },
  {
   "cell_type": "code",
   "execution_count": 3,
   "metadata": {},
   "outputs": [],
   "source": [
    "pedigree = {\n",
    "    'parents': [None, (0, 2), None, (0, 2), (1, 5), None, (1, 5), (3, 8), None],\n",
    "    'names': ['Ira','James','Robin','Eva','Jason','Rene','Benjamin','Sandra','Aaron']\n",
    "}\n",
    "allele_freqs = [0.1, 0.9]\n",
    "allele_list = ['F', 'f']\n",
    "alpha_list = [0.8, 0.6, 0.1]\n",
    "phenotype_list = ['CysticFibrosis', 'NoCysticFibrosis']\n",
    "positions = [520, 600, 520, 500, 650, 400, 650, 300, 390, 600, 390, 500, 260, 400, 260, 300, 780, 200, 780, 100, 1040, 400, 1040, 300, 910, 200, 910, 100, 130, 200, 130, 100, 0, 400, 0, 300]\n",
    "positions = np.array(positions).reshape(-1, 2, 2).tolist()\n",
    "\n",
    "factor_list = sol.construct_genetic_network(pedigree, allele_freqs, alpha_list)\n",
    "\n",
    "helper.send_to_samiam(pedigree, factor_list, allele_list, phenotype_list, positions, 'cysticFibrosisBayesNet.net')"
   ]
  },
  {
   "cell_type": "markdown",
   "metadata": {},
   "source": [
    "# Quiz 6"
   ]
  },
  {
   "cell_type": "code",
   "execution_count": 4,
   "metadata": {},
   "outputs": [],
   "source": [
    "pedigree = {\n",
    "    'parents': [None, (0, 2), None, (0, 2), (1, 5), None, (1, 5), (3, 8), None],\n",
    "    'names': ['Ira','James','Robin','Eva','Jason','Rene','Benjamin','Sandra','Aaron']\n",
    "}\n",
    "allele_freqs = [0.1, 0.7, .2]\n",
    "allele_list = ['F', 'f', 'n']\n",
    "alpha_list = [0.8, 0.6, 0.1, .5, .05, .01]\n",
    "phenotype_list = ['CysticFibrosis', 'NoCysticFibrosis']\n",
    "positions = [1040, 600, 1170, 600, 1105, 500, 1300, 400, 1430, 400, 1365, 300, 780, 600, 910, 600, 845, 500, 520, 400, 650, 400, 585, 300, 1560, 200, 1690, 200, 1625, 100, 2080, 400, 2210, 400, 2145, 300, 1820, 200, 1950, 200, 1885, 100, 260, 200, 390, 200, 325, 100, 0, 400, 130, 400, 65, 300]\n",
    "positions = np.array(positions).reshape(-1, 3, 2).tolist()\n",
    "\n",
    "factor_list = sol.construct_decoupled_genetic_network(pedigree, allele_freqs, alpha_list)\n",
    "\n",
    "helper.send_to_samiam_copy(pedigree, factor_list, allele_list, phenotype_list, positions, 'cysticFibrosisBayesNetCopy.net')"
   ]
  },
  {
   "cell_type": "code",
   "execution_count": null,
   "metadata": {},
   "outputs": [],
   "source": []
  }
 ],
 "metadata": {
  "kernelspec": {
   "display_name": "Python 3",
   "language": "python",
   "name": "python3"
  },
  "language_info": {
   "codemirror_mode": {
    "name": "ipython",
    "version": 3
   },
   "file_extension": ".py",
   "mimetype": "text/x-python",
   "name": "python",
   "nbconvert_exporter": "python",
   "pygments_lexer": "ipython3",
   "version": "3.9.7"
  }
 },
 "nbformat": 4,
 "nbformat_minor": 4
}
